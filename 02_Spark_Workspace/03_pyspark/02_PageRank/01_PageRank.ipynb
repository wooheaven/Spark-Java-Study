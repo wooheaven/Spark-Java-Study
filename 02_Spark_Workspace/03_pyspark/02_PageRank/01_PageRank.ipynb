{
 "cells": [
  {
   "cell_type": "code",
   "execution_count": 1,
   "metadata": {
    "scrolled": true
   },
   "outputs": [
    {
     "name": "stdout",
     "output_type": "stream",
     "text": [
      "a,c\r\n",
      "a,d\r\n",
      "b,a\r\n",
      "c,a\r\n",
      "d,b\r\n",
      "d,c\r\n"
     ]
    }
   ],
   "source": [
    "!hdfs dfs -cat /user/root/01_PageRank_data.csv"
   ]
  },
  {
   "cell_type": "code",
   "execution_count": 2,
   "metadata": {},
   "outputs": [],
   "source": [
    "import findspark\n",
    "findspark.init()"
   ]
  },
  {
   "cell_type": "code",
   "execution_count": 3,
   "metadata": {},
   "outputs": [],
   "source": [
    "import pyspark\n",
    "sc = pyspark.SparkContext(appName='PageRank')"
   ]
  },
  {
   "cell_type": "code",
   "execution_count": 4,
   "metadata": {},
   "outputs": [
    {
     "data": {
      "text/plain": [
       "[['a', 'c'], ['a', 'd'], ['b', 'a'], ['c', 'a'], ['d', 'b'], ['d', 'c']]"
      ]
     },
     "execution_count": 4,
     "metadata": {},
     "output_type": "execute_result"
    }
   ],
   "source": [
    "rdd_1 = sc.textFile(\"hdfs:///user/root/01_PageRank_data.csv\").map(lambda x: x.split(\",\"))\n",
    "rdd_1.collect()"
   ]
  },
  {
   "cell_type": "code",
   "execution_count": 5,
   "metadata": {},
   "outputs": [
    {
     "data": {
      "text/plain": [
       "[('a', 'c'), ('a', 'd'), ('b', 'a'), ('c', 'a'), ('d', 'b'), ('d', 'c')]"
      ]
     },
     "execution_count": 5,
     "metadata": {},
     "output_type": "execute_result"
    }
   ],
   "source": [
    "rdd_2 = rdd_1.map(lambda x: (x[0], x[1]))\n",
    "rdd_2.collect()"
   ]
  },
  {
   "cell_type": "code",
   "execution_count": 6,
   "metadata": {},
   "outputs": [
    {
     "data": {
      "text/plain": [
       "[('c', <pyspark.resultiterable.ResultIterable at 0x7fd87c1ed9e8>),\n",
       " ('b', <pyspark.resultiterable.ResultIterable at 0x7fd8746022e8>),\n",
       " ('d', <pyspark.resultiterable.ResultIterable at 0x7fd874602358>),\n",
       " ('a', <pyspark.resultiterable.ResultIterable at 0x7fd874602320>)]"
      ]
     },
     "execution_count": 6,
     "metadata": {},
     "output_type": "execute_result"
    }
   ],
   "source": [
    "rdd_3 = rdd_2.groupByKey()\n",
    "rdd_3.collect()"
   ]
  },
  {
   "cell_type": "code",
   "execution_count": 7,
   "metadata": {},
   "outputs": [
    {
     "data": {
      "text/plain": [
       "[('c', ['a']), ('b', ['a']), ('d', ['b', 'c']), ('a', ['c', 'd'])]"
      ]
     },
     "execution_count": 7,
     "metadata": {},
     "output_type": "execute_result"
    }
   ],
   "source": [
    "rdd_3.mapValues(list).collect()"
   ]
  },
  {
   "cell_type": "code",
   "execution_count": 8,
   "metadata": {},
   "outputs": [
    {
     "data": {
      "text/plain": [
       "[('c', (<pyspark.resultiterable.ResultIterable at 0x7fd87c03f320>, 1.0)),\n",
       " ('b', (<pyspark.resultiterable.ResultIterable at 0x7fd87c03a4a8>, 1.0)),\n",
       " ('d', (<pyspark.resultiterable.ResultIterable at 0x7fd87c03a240>, 1.0)),\n",
       " ('a', (<pyspark.resultiterable.ResultIterable at 0x7fd87c03a470>, 1.0))]"
      ]
     },
     "execution_count": 8,
     "metadata": {},
     "output_type": "execute_result"
    }
   ],
   "source": [
    "# 1 (Before iteration) Initialize each page's rank to 1.0\n",
    "rdd_4 = rdd_3.mapValues(lambda x: (x,1.0))\n",
    "rdd_4.collect()"
   ]
  },
  {
   "cell_type": "code",
   "execution_count": 9,
   "metadata": {},
   "outputs": [
    {
     "data": {
      "text/plain": [
       "[('c', (['a'], 1.0)),\n",
       " ('b', (['a'], 1.0)),\n",
       " ('d', (['b', 'c'], 1.0)),\n",
       " ('a', (['c', 'd'], 1.0))]"
      ]
     },
     "execution_count": 9,
     "metadata": {},
     "output_type": "execute_result"
    }
   ],
   "source": [
    "rdd_4.mapValues(lambda x: (list(x[0]), x[1])).collect()"
   ]
  },
  {
   "cell_type": "code",
   "execution_count": 10,
   "metadata": {},
   "outputs": [],
   "source": [
    "# 2 On iteration I, page P send a contribution [rank(P)/numNeighbors(P)] to it's neighbors\n",
    "def f(neighbors, rank):\n",
    "    for neighbor in neighbors:\n",
    "        new_rank = rank / len(neighbors)\n",
    "        yield (neighbor, new_rank)"
   ]
  },
  {
   "cell_type": "code",
   "execution_count": 11,
   "metadata": {},
   "outputs": [
    {
     "data": {
      "text/plain": [
       "[('c', ('a', 1.0)),\n",
       " ('b', ('a', 1.0)),\n",
       " ('d', ('b', 0.5)),\n",
       " ('d', ('c', 0.5)),\n",
       " ('a', ('c', 0.5)),\n",
       " ('a', ('d', 0.5))]"
      ]
     },
     "execution_count": 11,
     "metadata": {},
     "output_type": "execute_result"
    }
   ],
   "source": [
    "rdd_5 = rdd_4.flatMapValues(lambda x: f(x[0], x[1]))\n",
    "rdd_5.collect()"
   ]
  },
  {
   "cell_type": "code",
   "execution_count": 12,
   "metadata": {},
   "outputs": [
    {
     "data": {
      "text/plain": [
       "[('a', 1.0), ('a', 1.0), ('b', 0.5), ('c', 0.5), ('c', 0.5), ('d', 0.5)]"
      ]
     },
     "execution_count": 12,
     "metadata": {},
     "output_type": "execute_result"
    }
   ],
   "source": [
    "rdd_6 = rdd_5.map(lambda x: (x[1][0], x[1][1]))\n",
    "rdd_6.collect()"
   ]
  },
  {
   "cell_type": "code",
   "execution_count": 13,
   "metadata": {},
   "outputs": [],
   "source": [
    "from operator import add"
   ]
  },
  {
   "cell_type": "code",
   "execution_count": 14,
   "metadata": {},
   "outputs": [
    {
     "data": {
      "text/plain": [
       "[('c', 1.0), ('b', 0.5), ('d', 0.5), ('a', 2.0)]"
      ]
     },
     "execution_count": 14,
     "metadata": {},
     "output_type": "execute_result"
    }
   ],
   "source": [
    "rdd_7 = rdd_6.reduceByKey(add)\n",
    "rdd_7.collect()"
   ]
  },
  {
   "cell_type": "code",
   "execution_count": 15,
   "metadata": {},
   "outputs": [
    {
     "data": {
      "text/plain": [
       "[('c', 1.0), ('b', 0.575), ('d', 0.575), ('a', 1.8499999999999999)]"
      ]
     },
     "execution_count": 15,
     "metadata": {},
     "output_type": "execute_result"
    }
   ],
   "source": [
    "# 3 On iteration I, page P has rank as 0.15 + 0.85 * contribution\n",
    "rdd_8 = rdd_7.mapValues(lambda v: 0.15 + 0.85 * v)\n",
    "rdd_8.collect()"
   ]
  },
  {
   "cell_type": "code",
   "execution_count": 16,
   "metadata": {},
   "outputs": [],
   "source": [
    "sc.stop()"
   ]
  }
 ],
 "metadata": {
  "kernelspec": {
   "display_name": "Python 3",
   "language": "python",
   "name": "python3"
  },
  "language_info": {
   "codemirror_mode": {
    "name": "ipython",
    "version": 3
   },
   "file_extension": ".py",
   "mimetype": "text/x-python",
   "name": "python",
   "nbconvert_exporter": "python",
   "pygments_lexer": "ipython3",
   "version": "3.5.2"
  }
 },
 "nbformat": 4,
 "nbformat_minor": 4
}
