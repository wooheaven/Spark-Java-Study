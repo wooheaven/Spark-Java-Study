{
 "cells": [
  {
   "cell_type": "code",
   "execution_count": 1,
   "metadata": {},
   "outputs": [],
   "source": [
    "import findspark\n",
    "findspark.init()"
   ]
  },
  {
   "cell_type": "code",
   "execution_count": 2,
   "metadata": {},
   "outputs": [],
   "source": [
    "import pyspark\n",
    "sc = pyspark.SparkContext(appName=\"RDD.foreach\")"
   ]
  },
  {
   "cell_type": "code",
   "execution_count": 3,
   "metadata": {},
   "outputs": [
    {
     "data": {
      "text/plain": [
       "[1, 2, 3, 4, 5, 6, 7]"
      ]
     },
     "execution_count": 3,
     "metadata": {},
     "output_type": "execute_result"
    }
   ],
   "source": [
    "rddA = sc.parallelize([1,2,3,4,5,6,7], 3)\n",
    "rddA.collect()"
   ]
  },
  {
   "cell_type": "code",
   "execution_count": 4,
   "metadata": {},
   "outputs": [],
   "source": [
    "# first clear the file contents\n",
    "open('./foreachExample.txt', 'w').close()  "
   ]
  },
  {
   "cell_type": "code",
   "execution_count": 5,
   "metadata": {},
   "outputs": [],
   "source": [
    "!cat foreachExample.txt"
   ]
  },
  {
   "cell_type": "code",
   "execution_count": 6,
   "metadata": {},
   "outputs": [],
   "source": [
    "from __future__ import print_function\n",
    "def f(v):\n",
    "    if (None != v):\n",
    "        f = open('./foreachExample.txt', 'a+')\n",
    "        f.write(\"test\")\n",
    "        f.close()\n",
    "        print(v)"
   ]
  },
  {
   "cell_type": "code",
   "execution_count": 7,
   "metadata": {
    "scrolled": false
   },
   "outputs": [],
   "source": [
    "rddA.foreach(f) # can't writes into foreachExample.txt, can't print"
   ]
  },
  {
   "cell_type": "code",
   "execution_count": 8,
   "metadata": {},
   "outputs": [
    {
     "name": "stdout",
     "output_type": "stream",
     "text": [
      "\n"
     ]
    }
   ],
   "source": [
    "# print the contents of foreachExample.txt\n",
    "with open(\"./foreachExample.txt\", \"r\") as foreachExample:\n",
    "    print (foreachExample.read())"
   ]
  },
  {
   "cell_type": "code",
   "execution_count": 9,
   "metadata": {},
   "outputs": [
    {
     "name": "stdout",
     "output_type": "stream",
     "text": [
      "total 24\r\n",
      "4 drwxrwxr-x 5 1000 1000 4096 Dec  1 18:29 .\r\n",
      "4 drwxr-xr-x 1 root root 4096 Dec  1 17:45 ..\r\n",
      "4 drwxr-xr-x 2 root root 4096 Dec  1 17:48 .ipynb_checkpoints\r\n",
      "4 drwxrwxr-x 3 1000 1000 4096 Nov 14 13:16 01_Data_Replication\r\n",
      "4 drwxrwxr-x 3 1000 1000 4096 Nov  9 17:05 02_Pi_Estimation\r\n",
      "4 -rw-rw-r-- 1 1000 1000 3736 Dec  1 18:29 16_RDD.foreach_example.ipynb\r\n",
      "0 -rw-r--r-- 1 root root    0 Dec  1 18:33 foreachExample.txt\r\n"
     ]
    }
   ],
   "source": [
    "!ls -als"
   ]
  },
  {
   "cell_type": "code",
   "execution_count": 10,
   "metadata": {},
   "outputs": [],
   "source": [
    "sc.stop()"
   ]
  }
 ],
 "metadata": {
  "kernelspec": {
   "display_name": "Python 3",
   "language": "python",
   "name": "python3"
  },
  "language_info": {
   "codemirror_mode": {
    "name": "ipython",
    "version": 3
   },
   "file_extension": ".py",
   "mimetype": "text/x-python",
   "name": "python",
   "nbconvert_exporter": "python",
   "pygments_lexer": "ipython3",
   "version": "3.5.2"
  }
 },
 "nbformat": 4,
 "nbformat_minor": 2
}
