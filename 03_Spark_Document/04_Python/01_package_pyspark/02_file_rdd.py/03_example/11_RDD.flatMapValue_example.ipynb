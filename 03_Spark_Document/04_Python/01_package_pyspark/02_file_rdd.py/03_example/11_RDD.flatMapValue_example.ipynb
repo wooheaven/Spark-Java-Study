{
 "cells": [
  {
   "cell_type": "code",
   "execution_count": 1,
   "metadata": {},
   "outputs": [],
   "source": [
    "import findspark\n",
    "findspark.init()"
   ]
  },
  {
   "cell_type": "code",
   "execution_count": 2,
   "metadata": {},
   "outputs": [],
   "source": [
    "import pyspark\n",
    "sc = pyspark.SparkContext(appName=\"RDD.flatMapValues\")"
   ]
  },
  {
   "cell_type": "code",
   "execution_count": 3,
   "metadata": {},
   "outputs": [
    {
     "data": {
      "text/plain": [
       "[('A', 'C'), ('A', 'D'), ('B', 'A'), ('C', 'A'), ('D', 'B'), ('D', 'C')]"
      ]
     },
     "execution_count": 3,
     "metadata": {},
     "output_type": "execute_result"
    }
   ],
   "source": [
    "l = [('A','C'), ('A', 'D'), ('B','A'), ('C', 'A'), ('D', 'B'), ('D', 'C')]\n",
    "l"
   ]
  },
  {
   "cell_type": "code",
   "execution_count": 4,
   "metadata": {},
   "outputs": [
    {
     "data": {
      "text/plain": [
       "[('A', ['C', 'D']), ('B', ['A']), ('C', ['A']), ('D', ['B', 'C'])]"
      ]
     },
     "execution_count": 4,
     "metadata": {},
     "output_type": "execute_result"
    }
   ],
   "source": [
    "links = sc.parallelize(l).groupByKey().sortByKey().cache()\n",
    "# links.collect()\n",
    "links.mapValues(list).collect()"
   ]
  },
  {
   "cell_type": "code",
   "execution_count": 5,
   "metadata": {},
   "outputs": [
    {
     "data": {
      "text/plain": [
       "[('A', 1.0), ('B', 1.0), ('C', 1.0), ('D', 1.0)]"
      ]
     },
     "execution_count": 5,
     "metadata": {},
     "output_type": "execute_result"
    }
   ],
   "source": [
    "ranks = links.map(lambda item: (item[0], 1.0))\n",
    "ranks.collect()"
   ]
  },
  {
   "cell_type": "code",
   "execution_count": 6,
   "metadata": {},
   "outputs": [
    {
     "data": {
      "text/plain": [
       "[('A', (['C', 'D'], 1.0)),\n",
       " ('B', (['A'], 1.0)),\n",
       " ('C', (['A'], 1.0)),\n",
       " ('D', (['B', 'C'], 1.0))]"
      ]
     },
     "execution_count": 6,
     "metadata": {},
     "output_type": "execute_result"
    }
   ],
   "source": [
    "links_ranks = links.join(ranks).sortByKey()\n",
    "# links_ranks.collect()\n",
    "links_ranks.mapValues(lambda x: (list(x[0]), x[1])).collect()"
   ]
  },
  {
   "cell_type": "code",
   "execution_count": 7,
   "metadata": {},
   "outputs": [],
   "source": [
    "def f(neighbors, rank):\n",
    "    for neighbor in neighbors:\n",
    "        new_rank = rank / len(neighbors)\n",
    "        yield (neighbor, new_rank)"
   ]
  },
  {
   "cell_type": "code",
   "execution_count": 8,
   "metadata": {},
   "outputs": [
    {
     "data": {
      "text/plain": [
       "[('A', ('C', 0.5)),\n",
       " ('A', ('D', 0.5)),\n",
       " ('B', ('A', 1.0)),\n",
       " ('C', ('A', 1.0)),\n",
       " ('D', ('B', 0.5)),\n",
       " ('D', ('C', 0.5))]"
      ]
     },
     "execution_count": 8,
     "metadata": {},
     "output_type": "execute_result"
    }
   ],
   "source": [
    "contribs = links_ranks.flatMapValues(lambda x: f(x[0], x[1])).sortByKey()\n",
    "contribs.collect()"
   ]
  },
  {
   "cell_type": "code",
   "execution_count": 9,
   "metadata": {},
   "outputs": [],
   "source": [
    "sc.stop()"
   ]
  }
 ],
 "metadata": {
  "kernelspec": {
   "display_name": "Python 3",
   "language": "python",
   "name": "python3"
  },
  "language_info": {
   "codemirror_mode": {
    "name": "ipython",
    "version": 3
   },
   "file_extension": ".py",
   "mimetype": "text/x-python",
   "name": "python",
   "nbconvert_exporter": "python",
   "pygments_lexer": "ipython3",
   "version": "3.5.2"
  }
 },
 "nbformat": 4,
 "nbformat_minor": 2
}
